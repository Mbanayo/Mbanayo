{
 "cells": [
  {
   "cell_type": "markdown",
   "id": "bab041aa",
   "metadata": {},
   "source": [
    "# Data Science Tools and Ecosystem"
   ]
  },
  {
   "cell_type": "markdown",
   "id": "26bfad89",
   "metadata": {},
   "source": [
    "In this notebook, Data Science Tools and Ecosystem are summarized."
   ]
  },
  {
   "cell_type": "markdown",
   "id": "87943778",
   "metadata": {},
   "source": [
    "__Objectives:__\n",
    "\n",
    "* To know some popular languages that Data Scientists use.\n",
    "* Learn some commonly used libraries by Data Scientists.\n",
    "* Example Open Source Tools for Data Science.\n",
    "* Learn how to evaluate arithmetic expressions.\n",
    "* Examples of computing arithmetic expressions."
   ]
  },
  {
   "cell_type": "markdown",
   "id": "04341028",
   "metadata": {},
   "source": [
    "Some of the popular languages that Data Scientists use are:\n",
    "1. Phyton\n",
    "2. R\n",
    "3. SQL\n",
    "4. Java\n",
    "5. Julia\n",
    "6. Scala\n",
    "7. C/C++"
   ]
  },
  {
   "cell_type": "markdown",
   "id": "39af3343",
   "metadata": {},
   "source": [
    "Some of the commonly used libraries used by Data Scientists include:\n",
    "1. Panda\n",
    "2. NumPy\n",
    "3. Matplotlib\n",
    "4. Tensorflow\n",
    "5. SciPy\n",
    "6. Pillow"
   ]
  },
  {
   "cell_type": "markdown",
   "id": "312598e7",
   "metadata": {},
   "source": [
    "| __Data Science Tools__ |\n",
    "|:------------------:|\n",
    "|       Rstudio      |\n",
    "|    Apache Spark    |\n",
    "|       Hadoop       |"
   ]
  },
  {
   "cell_type": "markdown",
   "id": "ddef9a1f",
   "metadata": {},
   "source": [
    " ### _Below are a few examples of evaluating arithmetic expressions in Python_ \n",
    "\n",
    "| __Operator__ | __Syntax__ | __Working__ |\n",
    "|:------------:|:----------:|:-----------:|\n",
    "| + | x+y | Addition or summation of x and y. |\n",
    "| - | x-y | Subtraction of y from x. |\n",
    "| x | xxy | Multiplication or product of x and y. |\n",
    "| / | x/y | Division of x and y. |\n",
    "\n"
   ]
  },
  {
   "cell_type": "code",
   "execution_count": 7,
   "id": "09d2d865",
   "metadata": {},
   "outputs": [
    {
     "data": {
      "text/plain": [
       "17"
      ]
     },
     "execution_count": 7,
     "metadata": {},
     "output_type": "execute_result"
    }
   ],
   "source": [
    "#This a simple arithmetic expression to mutiply then add integers\n",
    "\n",
    "(3*4)+5"
   ]
  },
  {
   "cell_type": "code",
   "execution_count": 8,
   "id": "7c310e03",
   "metadata": {
    "scrolled": true
   },
   "outputs": [
    {
     "data": {
      "text/plain": [
       "3.3333333333333335"
      ]
     },
     "execution_count": 8,
     "metadata": {},
     "output_type": "execute_result"
    }
   ],
   "source": [
    "#This will convert 200 minutes to hours by diving by 60\n",
    "\n",
    "200/60"
   ]
  },
  {
   "cell_type": "markdown",
   "id": "2f8f6514",
   "metadata": {},
   "source": [
    "## Author\n",
    "Mika Banayo"
   ]
  }
 ],
 "metadata": {
  "kernelspec": {
   "display_name": "Python 3 (ipykernel)",
   "language": "python",
   "name": "python3"
  },
  "language_info": {
   "codemirror_mode": {
    "name": "ipython",
    "version": 3
   },
   "file_extension": ".py",
   "mimetype": "text/x-python",
   "name": "python",
   "nbconvert_exporter": "python",
   "pygments_lexer": "ipython3",
   "version": "3.11.4"
  }
 },
 "nbformat": 4,
 "nbformat_minor": 5
}
